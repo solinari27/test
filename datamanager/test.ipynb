{
 "cells": [
  {
   "cell_type": "code",
   "execution_count": 20,
   "metadata": {
    "scrolled": false
   },
   "outputs": [
    {
     "name": "stdout",
     "output_type": "stream",
     "text": [
      "w:  -0.008861665011414792 score:  0.18737420085223566\n",
      "<class 'pandas.core.frame.DataFrame'>\n"
     ]
    },
    {
     "data": {
      "text/plain": [
       "<Figure size 432x288 with 0 Axes>"
      ]
     },
     "metadata": {},
     "output_type": "display_data"
    }
   ],
   "source": [
    "#!usr/bin/env python\n",
    "# -*- coding:utf-8 _*-\n",
    "\n",
    "\"\"\"\n",
    "@author: solinari\n",
    "@file: test.py\n",
    "@time: 2019/02/10\n",
    "\"\"\"\n",
    "\n",
    "%matplotlib inline\n",
    "import numpy as np\n",
    "import pandas as pd\n",
    "import matplotlib.pyplot as plt\n",
    "\n",
    "from pytorch.sklearn_lineregression import do_regression\n",
    "from datamanager.collection import collection\n",
    "from datamanager.collection import data_show\n",
    "import torch\n",
    "from torch.autograd import Variable\n",
    "from torch_learning.tensorboardX_002 import TBwriter\n",
    "from common.mongo.neteaseConn import NeteaseConn\n",
    "\n",
    "def getStockList():\n",
    "    client = NeteaseConn('D:/workspace/testproj/Conf/netease.conf')\n",
    "    return client.getStocks()\n",
    "\n",
    "def gen_training_data(code, start_date, end_date):\n",
    "    c = collection.Collection()\n",
    "\n",
    "    for result in c.getData(code=\"600000\", start_date=\"2010-01-01\", end_date=\"2010-12-31\"):\n",
    "            ret = do_regression(result, epochs=10000, thres=10,\n",
    "                                DBSCAN_eps=4, DBSCAN_minsamples=3)\n",
    "            for item in ret:\n",
    "                w = item[0]\n",
    "                b = item[1]\n",
    "                score = item[4]\n",
    "\n",
    "                # if line regression cov score < xx; drop this result\n",
    "    #             if score < 0.2 or abs(w) < 0.01:\n",
    "    #                 continue\n",
    "                dataset = result[item[2]: item[3]]\n",
    "                dataset_info = {}\n",
    "                dataset_info['regression_w'] = w\n",
    "                dataset_info['regression_b'] = b\n",
    "                dataset_info['regression_score'] = score \n",
    "                print('w: ', w, 'score: ', score)\n",
    "                _dt = []\n",
    "                for _it in dataset:\n",
    "                    _dt.append(_it['TCLOSE'])\n",
    "                \n",
    "                fig = plt.figure()\n",
    "#                 plt.plot(np.array(list(range(0, len(_dt)))),\n",
    "#                          np.array(_dt), label='label')\n",
    "\n",
    "                _dt = np.array(_dt)\n",
    "                df_obj = pd.DataFrame(_dt)\n",
    "                print (type(df_obj))\n",
    "                df_obj.to_csv('test.csv')\n",
    "    #             c = TBwriter('D:/workspace/test')\n",
    "    #             c.plotline(x_data=np.array(list(range(0, len(_dt)))), y_data=np.array(_dt))\n",
    "\n",
    "            # show = data_show.Plt()\n",
    "            # show.load_data(data=dataset)\n",
    "            # show.plot(w=w, b=b)\n",
    "            # time.sleep(1)2\n",
    "\n",
    "\n",
    "if __name__ == '__main__':\n",
    "#     codes = getStockList()\n",
    "#     code = codes[100][0]\n",
    "    gen_training_data(code=None, start_date=None, end_date=None)\n",
    "    "
   ]
  },
  {
   "cell_type": "code",
   "execution_count": null,
   "metadata": {},
   "outputs": [],
   "source": []
  }
 ],
 "metadata": {
  "kernelspec": {
   "display_name": "Python 3",
   "language": "python",
   "name": "python3"
  },
  "language_info": {
   "codemirror_mode": {
    "name": "ipython",
    "version": 3
   },
   "file_extension": ".py",
   "mimetype": "text/x-python",
   "name": "python",
   "nbconvert_exporter": "python",
   "pygments_lexer": "ipython3",
   "version": "3.6.8"
  },
  "toc": {
   "base_numbering": 1,
   "nav_menu": {},
   "number_sections": true,
   "sideBar": true,
   "skip_h1_title": false,
   "title_cell": "Table of Contents",
   "title_sidebar": "Contents",
   "toc_cell": false,
   "toc_position": {},
   "toc_section_display": true,
   "toc_window_display": false
  }
 },
 "nbformat": 4,
 "nbformat_minor": 2
}
