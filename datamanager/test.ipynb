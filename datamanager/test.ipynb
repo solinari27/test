{
 "cells": [
  {
   "cell_type": "code",
   "execution_count": 1,
   "metadata": {},
   "outputs": [
    {
     "ename": "ModuleNotFoundError",
     "evalue": "No module named 'common'",
     "output_type": "error",
     "traceback": [
      "\u001b[1;31m---------------------------------------------------------------------------\u001b[0m",
      "\u001b[1;31mModuleNotFoundError\u001b[0m                       Traceback (most recent call last)",
      "\u001b[1;32m<ipython-input-1-ee7a169d18fa>\u001b[0m in \u001b[0;36m<module>\u001b[1;34m\u001b[0m\n\u001b[0;32m     25\u001b[0m \u001b[1;33m\u001b[0m\u001b[0m\n\u001b[0;32m     26\u001b[0m \u001b[1;32mfrom\u001b[0m \u001b[0mpytorch\u001b[0m\u001b[1;33m.\u001b[0m\u001b[0msklearn_lineregression\u001b[0m \u001b[1;32mimport\u001b[0m \u001b[0mdo_regression\u001b[0m\u001b[1;33m\u001b[0m\u001b[1;33m\u001b[0m\u001b[0m\n\u001b[1;32m---> 27\u001b[1;33m \u001b[1;32mfrom\u001b[0m \u001b[0mcollection\u001b[0m \u001b[1;32mimport\u001b[0m \u001b[0mcollection\u001b[0m\u001b[1;33m\u001b[0m\u001b[1;33m\u001b[0m\u001b[0m\n\u001b[0m\u001b[0;32m     28\u001b[0m \u001b[1;32mfrom\u001b[0m \u001b[0mcollection\u001b[0m \u001b[1;32mimport\u001b[0m \u001b[0mdata_show\u001b[0m\u001b[1;33m\u001b[0m\u001b[1;33m\u001b[0m\u001b[0m\n\u001b[0;32m     29\u001b[0m \u001b[1;33m\u001b[0m\u001b[0m\n",
      "\u001b[1;32mD:\\workspace\\test\\datamanager\\collection\\collection.py\u001b[0m in \u001b[0;36m<module>\u001b[1;34m\u001b[0m\n\u001b[0;32m      9\u001b[0m \u001b[1;32mimport\u001b[0m \u001b[0mos\u001b[0m\u001b[1;33m\u001b[0m\u001b[1;33m\u001b[0m\u001b[0m\n\u001b[0;32m     10\u001b[0m \u001b[1;33m\u001b[0m\u001b[0m\n\u001b[1;32m---> 11\u001b[1;33m \u001b[1;32mfrom\u001b[0m \u001b[0mcommon\u001b[0m\u001b[1;33m.\u001b[0m\u001b[0mmongo\u001b[0m\u001b[1;33m.\u001b[0m\u001b[0msohuConn\u001b[0m \u001b[1;32mimport\u001b[0m \u001b[0mSohuConn\u001b[0m\u001b[1;33m\u001b[0m\u001b[1;33m\u001b[0m\u001b[0m\n\u001b[0m\u001b[0;32m     12\u001b[0m \u001b[1;32mfrom\u001b[0m \u001b[0mcommon\u001b[0m\u001b[1;33m.\u001b[0m\u001b[0mmongo\u001b[0m\u001b[1;33m.\u001b[0m\u001b[0mneteaseConn\u001b[0m \u001b[1;32mimport\u001b[0m \u001b[0mNeteaseConn\u001b[0m\u001b[1;33m\u001b[0m\u001b[1;33m\u001b[0m\u001b[0m\n\u001b[0;32m     13\u001b[0m \u001b[1;32mfrom\u001b[0m \u001b[0mutils\u001b[0m\u001b[1;33m.\u001b[0m\u001b[0mcommon\u001b[0m\u001b[1;33m.\u001b[0m\u001b[0mswitch\u001b[0m \u001b[1;32mimport\u001b[0m \u001b[0mswitch\u001b[0m\u001b[1;33m\u001b[0m\u001b[1;33m\u001b[0m\u001b[0m\n",
      "\u001b[1;31mModuleNotFoundError\u001b[0m: No module named 'common'"
     ]
    }
   ],
   "source": [
    "#!usr/bin/env python\n",
    "# -*- coding:utf-8 _*-\n",
    "\n",
    "\"\"\"\n",
    "@author: solinari\n",
    "@file: test.py\n",
    "@time: 2019/02/10\n",
    "\"\"\"\n",
    "\n",
    "import sys\n",
    "import time\n",
    "\n",
    "sys.path.append('/home/ubuntu/test')\n",
    "sys.path.append('/home/solinari/workspace/test')\n",
    "sys.path.append('/mnt/d/workspace/test')\n",
    "# sys.path.append('/home/ubuntu/stockCrawler')\n",
    "# sys.path.append('/home/solinari/workspace/stockCrawler')\n",
    "# os.system(\"export PYTHONPATH=/home/ubuntu/stockCrawler:/home/solinari/workspace/stockCrawler:%PYTHONPATH\")\n",
    "# os.system(\"export PYTHONPATH=/home/ubuntu/test:/home/solinari/workspace/test:%PYTHONPATH\")\n",
    "# paths = os.getcwd().split('/')\n",
    "# del(paths[len(paths)-2])\n",
    "# del(paths[len(paths)-1])\n",
    "# _path = os.path.join(paths)\n",
    "# print (_path)\n",
    "\n",
    "from pytorch.sklearn_lineregression import do_regression\n",
    "from collection import collection\n",
    "from collection import data_show\n",
    "\n",
    "\n",
    "c = collection.Collection()\n",
    "\n",
    "for result in c.getData(code=\"600059\", start_date=\"2010-01-01\", end_date=\"2018-12-31\"):\n",
    "    ret = do_regression(result, epochs=10000, thres=10,\n",
    "                        DBSCAN_eps=3, DBSCAN_minsamples=4)\n",
    "    for item in ret:\n",
    "        w = item[0]\n",
    "        b = item[1]\n",
    "        score = item[4]\n",
    "\n",
    "        # if line regression cov score < xx; drop this result\n",
    "        if score < 0.2:\n",
    "            continue\n",
    "\n",
    "        dataset = result[item[2]: item[3]]\n",
    "        print (w, b, score)\n",
    "        _dt = []\n",
    "        for _it in dataset:\n",
    "            _dt.append(_it['TCLOSE'])\n",
    "        print (_dt)\n",
    "    # show = data_show.Plt()\n",
    "    # show.load_data(data=dataset)\n",
    "    # show.plot(w=w, b=b)\n",
    "    # time.sleep(1)\n"
   ]
  },
  {
   "cell_type": "code",
   "execution_count": null,
   "metadata": {},
   "outputs": [],
   "source": []
  }
 ],
 "metadata": {
  "kernelspec": {
   "display_name": "Python 3",
   "language": "python",
   "name": "python3"
  },
  "language_info": {
   "codemirror_mode": {
    "name": "ipython",
    "version": 3
   },
   "file_extension": ".py",
   "mimetype": "text/x-python",
   "name": "python",
   "nbconvert_exporter": "python",
   "pygments_lexer": "ipython3",
   "version": "3.6.8"
  }
 },
 "nbformat": 4,
 "nbformat_minor": 2
}
