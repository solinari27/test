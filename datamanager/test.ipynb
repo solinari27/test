{
 "cells": [
  {
   "cell_type": "code",
   "execution_count": 1,
   "metadata": {},
   "outputs": [
    {
     "ename": "FileNotFoundError",
     "evalue": "[Errno 2] No such file or directory: '/home/solinari/workspace/test/Conf/sohu.conf'",
     "output_type": "error",
     "traceback": [
      "\u001b[1;31m---------------------------------------------------------------------------\u001b[0m",
      "\u001b[1;31mFileNotFoundError\u001b[0m                         Traceback (most recent call last)",
      "\u001b[1;32m<ipython-input-1-f0d318dae746>\u001b[0m in \u001b[0;36m<module>\u001b[1;34m\u001b[0m\n\u001b[0;32m     43\u001b[0m \u001b[1;33m\u001b[0m\u001b[0m\n\u001b[0;32m     44\u001b[0m \u001b[1;33m\u001b[0m\u001b[0m\n\u001b[1;32m---> 45\u001b[1;33m \u001b[0mc\u001b[0m \u001b[1;33m=\u001b[0m \u001b[0mcollection\u001b[0m\u001b[1;33m.\u001b[0m\u001b[0mCollection\u001b[0m\u001b[1;33m(\u001b[0m\u001b[1;33m)\u001b[0m\u001b[1;33m\u001b[0m\u001b[1;33m\u001b[0m\u001b[0m\n\u001b[0m\u001b[0;32m     46\u001b[0m \u001b[1;33m\u001b[0m\u001b[0m\n\u001b[0;32m     47\u001b[0m \u001b[1;32mfor\u001b[0m \u001b[0mresult\u001b[0m \u001b[1;32min\u001b[0m \u001b[0mc\u001b[0m\u001b[1;33m.\u001b[0m\u001b[0mgetData\u001b[0m\u001b[1;33m(\u001b[0m\u001b[0mcode\u001b[0m\u001b[1;33m=\u001b[0m\u001b[1;34m\"600059\"\u001b[0m\u001b[1;33m,\u001b[0m \u001b[0mstart_date\u001b[0m\u001b[1;33m=\u001b[0m\u001b[1;34m\"2010-01-01\"\u001b[0m\u001b[1;33m,\u001b[0m \u001b[0mend_date\u001b[0m\u001b[1;33m=\u001b[0m\u001b[1;34m\"2018-12-31\"\u001b[0m\u001b[1;33m)\u001b[0m\u001b[1;33m:\u001b[0m\u001b[1;33m\u001b[0m\u001b[1;33m\u001b[0m\u001b[0m\n",
      "\u001b[1;32mD:\\workspace\\test\\datamanager\\collection\\collection.py\u001b[0m in \u001b[0;36m__init__\u001b[1;34m(self)\u001b[0m\n\u001b[0;32m     21\u001b[0m         \u001b[1;31m#     \"/home/solinari/workspace/stockCrawler/Conf/netease.conf\")\u001b[0m\u001b[1;33m\u001b[0m\u001b[1;33m\u001b[0m\u001b[1;33m\u001b[0m\u001b[0m\n\u001b[0;32m     22\u001b[0m         self.sohuconn = SohuConn(\n\u001b[1;32m---> 23\u001b[1;33m             \"/home/solinari/workspace/test/Conf/sohu.conf\")\n\u001b[0m\u001b[0;32m     24\u001b[0m         self.neteaseconn = NeteaseConn(\n\u001b[0;32m     25\u001b[0m             \"/home/solinari/workspace/test/Conf/netease.conf\")\n",
      "\u001b[1;32mD:/workspace/test\\common\\mongo\\sohuConn.py\u001b[0m in \u001b[0;36m__init__\u001b[1;34m(self, confile)\u001b[0m\n\u001b[0;32m     18\u001b[0m         \u001b[0mself\u001b[0m\u001b[1;33m.\u001b[0m\u001b[0m__name__\u001b[0m \u001b[1;33m=\u001b[0m \u001b[1;34m\"sohuCrawler Mongo Conn\"\u001b[0m\u001b[1;33m\u001b[0m\u001b[1;33m\u001b[0m\u001b[0m\n\u001b[0;32m     19\u001b[0m         \u001b[1;31m# 注意路径配置\u001b[0m\u001b[1;33m\u001b[0m\u001b[1;33m\u001b[0m\u001b[1;33m\u001b[0m\u001b[0m\n\u001b[1;32m---> 20\u001b[1;33m         \u001b[1;32mwith\u001b[0m \u001b[0mopen\u001b[0m\u001b[1;33m(\u001b[0m\u001b[0mconfile\u001b[0m\u001b[1;33m)\u001b[0m \u001b[1;32mas\u001b[0m \u001b[0mf\u001b[0m\u001b[1;33m:\u001b[0m\u001b[1;33m\u001b[0m\u001b[1;33m\u001b[0m\u001b[0m\n\u001b[0m\u001b[0;32m     21\u001b[0m             \u001b[0mself\u001b[0m\u001b[1;33m.\u001b[0m\u001b[0m_mongoConf\u001b[0m \u001b[1;33m=\u001b[0m \u001b[0mjson\u001b[0m\u001b[1;33m.\u001b[0m\u001b[0mload\u001b[0m\u001b[1;33m(\u001b[0m\u001b[0mf\u001b[0m\u001b[1;33m)\u001b[0m\u001b[1;33m\u001b[0m\u001b[1;33m\u001b[0m\u001b[0m\n\u001b[0;32m     22\u001b[0m \u001b[1;33m\u001b[0m\u001b[0m\n",
      "\u001b[1;31mFileNotFoundError\u001b[0m: [Errno 2] No such file or directory: '/home/solinari/workspace/test/Conf/sohu.conf'"
     ]
    }
   ],
   "source": [
    "#!usr/bin/env python\n",
    "# -*- coding:utf-8 _*-\n",
    "\n",
    "\"\"\"\n",
    "@author: solinari\n",
    "@file: test.py\n",
    "@time: 2019/02/10\n",
    "\"\"\"\n",
    "\n",
    "import sys\n",
    "import time\n",
    "\n",
    "# if __name__ == '__main__':\n",
    "#     #     demo for use TBwriter\n",
    "#     x = torch.linspace(-5, 5, 200)\n",
    "#     x_np = Variable(x).data.numpy()\n",
    "#     y_relu = torch.tanh(x).data.numpy()\n",
    "\n",
    "#     c = TBwriter('D:/workspace/test')\n",
    "#     c.plotline(x_data=x_np, y_data=y_relu)\n",
    "\n",
    "sys.path.append('D:/workspace/test')\n",
    "sys.path.append('/home/ubuntu/test')\n",
    "sys.path.append('/home/solinari/workspace/test')\n",
    "sys.path.append('/mnt/d/workspace/test')\n",
    "# sys.path.append('/home/ubuntu/stockCrawler')\n",
    "# sys.path.append('/home/solinari/workspace/stockCrawler')\n",
    "# os.system(\"export PYTHONPATH=/home/ubuntu/stockCrawler:/home/solinari/workspace/stockCrawler:%PYTHONPATH\")\n",
    "# os.system(\"export PYTHONPATH=/home/ubuntu/test:/home/solinari/workspace/test:%PYTHONPATH\")\n",
    "# paths = os.getcwd().split('/')\n",
    "# del(paths[len(paths)-2])\n",
    "# del(paths[len(paths)-1])\n",
    "# _path = os.path.join(paths)\n",
    "# print (_path)\n",
    "\n",
    "from pytorch.sklearn_lineregression import do_regression\n",
    "from collection import collection\n",
    "from collection import data_show\n",
    "import torch\n",
    "from torch.autograd import Variable\n",
    "from torch_learning.tensorboardX_002 import TBwriter\n",
    "\n",
    "\n",
    "\n",
    "c = collection.Collection()\n",
    "\n",
    "for result in c.getData(code=\"600059\", start_date=\"2010-01-01\", end_date=\"2018-12-31\"):\n",
    "    ret = do_regression(result, epochs=10000, thres=10,\n",
    "                        DBSCAN_eps=3, DBSCAN_minsamples=4)\n",
    "    for item in ret:\n",
    "        w = item[0]\n",
    "        b = item[1]\n",
    "        score = item[4]\n",
    "\n",
    "        # if line regression cov score < xx; drop this result\n",
    "        if score < 0.2:\n",
    "            continue\n",
    "\n",
    "        dataset = result[item[2]: item[3]]\n",
    "        print (w, b, score)\n",
    "        _dt = []\n",
    "        for _it in dataset:\n",
    "            _dt.append(_it['TCLOSE'])\n",
    "        print (_dt)\n",
    "    # show = data_show.Plt()\n",
    "    # show.load_data(data=dataset)\n",
    "    # show.plot(w=w, b=b)\n",
    "    # time.sleep(1)\n"
   ]
  },
  {
   "cell_type": "code",
   "execution_count": null,
   "metadata": {},
   "outputs": [],
   "source": []
  }
 ],
 "metadata": {
  "kernelspec": {
   "display_name": "Python 3",
   "language": "python",
   "name": "python3"
  },
  "language_info": {
   "codemirror_mode": {
    "name": "ipython",
    "version": 3
   },
   "file_extension": ".py",
   "mimetype": "text/x-python",
   "name": "python",
   "nbconvert_exporter": "python",
   "pygments_lexer": "ipython3",
   "version": "3.6.8"
  },
  "toc": {
   "base_numbering": 1,
   "nav_menu": {},
   "number_sections": true,
   "sideBar": true,
   "skip_h1_title": false,
   "title_cell": "Table of Contents",
   "title_sidebar": "Contents",
   "toc_cell": false,
   "toc_position": {},
   "toc_section_display": true,
   "toc_window_display": false
  }
 },
 "nbformat": 4,
 "nbformat_minor": 2
}
