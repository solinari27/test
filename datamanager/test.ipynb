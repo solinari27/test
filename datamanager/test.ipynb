{
 "cells": [
  {
   "cell_type": "code",
   "execution_count": 41,
   "metadata": {
    "scrolled": false
   },
   "outputs": [
    {
     "name": "stdout",
     "output_type": "stream",
     "text": [
      "600007 600007_1acef915-4c33-4bf4-8da8-44a5f2cc2dfa 0.03032382621253214\n"
     ]
    },
    {
     "data": {
      "image/png": "[encoded data removed]",
      "text/plain": [
       "<Figure size 432x288 with 1 Axes>"
      ]
     },
     "metadata": {
      "needs_background": "light"
     },
     "output_type": "display_data"
    }
   ],
   "source": [
    "#!usr/bin/env python\n",
    "# -*- coding:utf-8 _*-\n",
    "\n",
    "\"\"\"\n",
    "@author: solinari\n",
    "@file: test.py\n",
    "@time: 2019/02/10\n",
    "\"\"\"\n",
    "\n",
    "%matplotlib inline\n",
    "import numpy as np\n",
    "import pandas as pd\n",
    "import matplotlib.pyplot as plt\n",
    "from uuid import uuid4\n",
    "import yaml\n",
    "\n",
    "from pytorch.sklearn_lineregression import do_regression\n",
    "from datamanager.collection import collection\n",
    "from datamanager.collection import data_show\n",
    "import torch\n",
    "from torch.autograd import Variable\n",
    "from torch_learning.tensorboardX_002 import TBwriter\n",
    "from common.mongo.neteaseConn import NeteaseConn\n",
    "\n",
    "\n",
    "def getStockList():\n",
    "    client = NeteaseConn('D:/workspace/testproj/Conf/netease.conf')\n",
    "    return client.getStocks()\n",
    "\n",
    "\n",
    "def gen_training_data(code, conf):\n",
    "    def gen_filename():\n",
    "        filehead = str(code) + '_'\n",
    "        return filehead + str(uuid4())\n",
    "\n",
    "    def gen_storage_data(rawdata, regression_res):\n",
    "        dataset = []\n",
    "        dataset_info = {}\n",
    "\n",
    "        w = regression_res[0]\n",
    "        b = regression_res[1]\n",
    "        score = regression_res[4]\n",
    "        dataset_info['regression_w'] = w\n",
    "        dataset_info['regression_b'] = b\n",
    "        dataset_info['regression_score'] = score\n",
    "\n",
    "        for _i in rawdata:\n",
    "            item = []\n",
    "            item.append(_i['LCLOSE'])\n",
    "            item.append(_i['TOPEN'])\n",
    "            item.append(_i['TCLOSE'])\n",
    "            item.append(_i['HIGH'])\n",
    "            item.append(_i['LOW'])\n",
    "            item.append(_i['TCAP'])\n",
    "            item.append(_i['MCAP'])\n",
    "            item.append(_i['CHG'])\n",
    "            item.append(_i['PCHG'])\n",
    "            item.append(_i['VATURNOVER'])\n",
    "            item.append(_i['VOTURNOVER'])\n",
    "            item.append(_i['TURNOVER'])\n",
    "            dataset.append(item)\n",
    "        return dataset, dataset_info\n",
    "\n",
    "    start_date = conf['main']['start_date']\n",
    "    end_date = conf['main']['end_date']\n",
    "    c = collection.Collection()\n",
    "\n",
    "    for result in c.getData(code=code, start_date=start_date, end_date=end_date):\n",
    "        ret = do_regression(result,\n",
    "                            epochs=conf['collection']['epochs'],\n",
    "                            thres=conf['collection']['thres'],\n",
    "                            DBSCAN_eps=conf['collection']['sk_learn']['DBSCAN_eps'],\n",
    "                            DBSCAN_minsamples=conf['collection']['sk_learn']['DBSCAN_minsamples'])\n",
    "        for item in ret:\n",
    "            # if line regression cov score < xx; drop this result\n",
    "            if item[4] < 0.2 or abs(item[0]) < 0.01:\n",
    "                continue\n",
    "            dataset, dataset_info = gen_storage_data(\n",
    "                rawdata=result[item[2]: item[3]], regression_res=item)\n",
    "\n",
    "            fig = plt.figure()\n",
    "            plt.plot(np.array(list(range(0, len(dataset)))),\n",
    "                     np.array(dataset), label='label')\n",
    "\n",
    "            data = pd.DataFrame(np.array(dataset))\n",
    "            filehead = gen_filename()\n",
    "            print(code, filehead, dataset_info['regression_w'])\n",
    "#             print(data)\n",
    "#                 data.to_csv('test.csv')\n",
    "\n",
    "\n",
    "if __name__ == '__main__':\n",
    "    datainfo = list()\n",
    "    codes = getStockList()\n",
    "    code = codes[2][0]\n",
    "    with open('D:/workspace/testproj/Conf/datamanager.yaml') as f:\n",
    "        conf = yaml.safe_load(f)\n",
    "\n",
    "    gen_training_data(code=code, conf=conf)"
   ]
  },
  {
   "cell_type": "code",
   "execution_count": null,
   "metadata": {},
   "outputs": [],
   "source": []
  }
 ],
 "metadata": {
  "kernelspec": {
   "display_name": "Python 3",
   "language": "python",
   "name": "python3"
  },
  "language_info": {
   "codemirror_mode": {
    "name": "ipython",
    "version": 3
   },
   "file_extension": ".py",
   "mimetype": "text/x-python",
   "name": "python",
   "nbconvert_exporter": "python",
   "pygments_lexer": "ipython3",
   "version": "3.6.8"
  },
  "toc": {
   "base_numbering": 1,
   "nav_menu": {},
   "number_sections": true,
   "sideBar": true,
   "skip_h1_title": false,
   "title_cell": "Table of Contents",
   "title_sidebar": "Contents",
   "toc_cell": false,
   "toc_position": {},
   "toc_section_display": true,
   "toc_window_display": false
  }
 },
 "nbformat": 4,
 "nbformat_minor": 2
}
