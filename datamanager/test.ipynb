{
 "cells": [
  {
   "cell_type": "code",
   "execution_count": 16,
   "metadata": {},
   "outputs": [
    {
     "name": "stdout",
     "output_type": "stream",
     "text": [
      "-0.0048808972137307964 9.682634348410211 0.40224619273739703\n",
      "-0.017762221197336007 8.822853456365342 0.8841821972557945\n"
     ]
    }
   ],
   "source": [
    "#!usr/bin/env python\n",
    "# -*- coding:utf-8 _*-\n",
    "\n",
    "\"\"\"\n",
    "@author: solinari\n",
    "@file: test.py\n",
    "@time: 2019/02/10\n",
    "\"\"\"\n",
    "\n",
    "import sys\n",
    "import time\n",
    "import numpy as np\n",
    "\n",
    "sys.path.append('D:/workspace/test')\n",
    "# sys.path.append('D:/workspace/stockCrawler')\n",
    "\n",
    "# sys.path.append('/home/ubuntu/test')\n",
    "# sys.path.append('/home/solinari/workspace/test')\n",
    "# sys.path.append('/mnt/d/workspace/test')\n",
    "# sys.path.append('/home/ubuntu/stockCrawler')\n",
    "# sys.path.append('/home/solinari/workspace/stockCrawler')\n",
    "# os.system(\"export PYTHONPATH=/home/ubuntu/stockCrawler:/home/solinari/workspace/stockCrawler:%PYTHONPATH\")\n",
    "# os.system(\"export PYTHONPATH=/home/ubuntu/test:/home/solinari/workspace/test:%PYTHONPATH\")\n",
    "# paths = os.getcwd().split('/')\n",
    "# del(paths[len(paths)-2])\n",
    "# del(paths[len(paths)-1])\n",
    "# _path = os.path.join(paths)\n",
    "# print (_path)\n",
    "\n",
    "from pytorch.sklearn_lineregression import do_regression\n",
    "from collection import collection\n",
    "from collection import data_show\n",
    "import torch\n",
    "from torch.autograd import Variable\n",
    "from torch_learning.tensorboardX_002 import TBwriter\n",
    "\n",
    "\n",
    "\n",
    "if __name__ == '__main__':\n",
    "    c = collection.Collection()\n",
    "\n",
    "    for result in c.getData(code=\"600059\", start_date=\"2010-01-01\", end_date=\"2018-12-31\"):\n",
    "        ret = do_regression(result, epochs=10000, thres=10,\n",
    "                            DBSCAN_eps=3, DBSCAN_minsamples=4)\n",
    "        for item in ret:\n",
    "            w = item[0]\n",
    "            b = item[1]\n",
    "            score = item[4]\n",
    "\n",
    "            # if line regression cov score < xx; drop this result\n",
    "            if score < 0.2:\n",
    "                continue\n",
    "            dataset = result[item[2]: item[3]]\n",
    "            print (w, b, score)\n",
    "\n",
    "            _dt = []\n",
    "            for _it in dataset:\n",
    "                _dt.append(_it['TCLOSE'])\n",
    "            c = TBwriter('D:/workspace/test')\n",
    "            c.plotline(x_data=np.array(list(range(0, len(_dt)))), y_data=np.array(_dt))\n",
    "\n",
    "        # show = data_show.Plt()\n",
    "        # show.load_data(data=dataset)\n",
    "        # show.plot(w=w, b=b)\n",
    "        # time.sleep(1)\n"
   ]
  },
  {
   "cell_type": "code",
   "execution_count": null,
   "metadata": {},
   "outputs": [],
   "source": []
  }
 ],
 "metadata": {
  "kernelspec": {
   "display_name": "Python 3",
   "language": "python",
   "name": "python3"
  },
  "language_info": {
   "codemirror_mode": {
    "name": "ipython",
    "version": 3
   },
   "file_extension": ".py",
   "mimetype": "text/x-python",
   "name": "python",
   "nbconvert_exporter": "python",
   "pygments_lexer": "ipython3",
   "version": "3.6.8"
  },
  "toc": {
   "base_numbering": 1,
   "nav_menu": {},
   "number_sections": true,
   "sideBar": true,
   "skip_h1_title": false,
   "title_cell": "Table of Contents",
   "title_sidebar": "Contents",
   "toc_cell": false,
   "toc_position": {},
   "toc_section_display": true,
   "toc_window_display": false
  }
 },
 "nbformat": 4,
 "nbformat_minor": 2
}
