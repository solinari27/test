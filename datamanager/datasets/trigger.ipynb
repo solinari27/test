{
 "cells": [
  {
   "cell_type": "code",
   "execution_count": 1,
   "metadata": {},
   "outputs": [
    {
     "name": "stdout",
     "output_type": "stream",
     "text": [
      "[ 2  8 13]\n",
      "[0 0 0 1 1 1 1 1 1 2 2 2 2 2]\n",
      "[ 4 10 14 23 27]\n",
      "[0 0 0 0 0 1 1 1 1 1 1 2 2 2 2 3 3 3 3 3 3 3 3 3 4 4 4 4]\n",
      "[ 5 10 16 24 30 33]\n",
      "[0 0 0 0 0 0 1 1 1 1 1 2 2 2 2 2 2 3 3 3 3 3 3 3 3 4 4 4 4 4 4 5 5 5]\n",
      "[ 4 10 18 24]\n",
      "[0 0 0 0 0 1 1 1 1 1 1 2 2 2 2 2 2 2 2 3 3 3 3 3 3]\n",
      "[ 6 12 18 22 28]\n",
      "[0 0 0 0 0 0 0 1 1 1 1 1 1 2 2 2 2 2 2 3 3 3 3 4 4 4 4 4 4]\n",
      "[ 3 12 21 27]\n",
      "[0 0 0 0 1 1 1 1 1 1 1 1 1 2 2 2 2 2 2 2 2 2 3 3 3 3 3 3]\n",
      "[ 4 10 19 27]\n",
      "[0 0 0 0 0 1 1 1 1 1 1 2 2 2 2 2 2 2 2 2 3 3 3 3 3 3 3 3]\n",
      "[ 5 14 19 23]\n",
      "[0 0 0 0 0 0 1 1 1 1 1 1 1 1 1 2 2 2 2 2 3 3 3 3]\n",
      "[ 7 14 21 28 37]\n",
      "[0 0 0 0 0 0 0 0 1 1 1 1 1 1 1 2 2 2 2 2 2 2 3 3 3 3 3 3 3 4 4 4 4 4 4 4 4\n",
      " 4]\n",
      "[ 7 10 17 23]\n",
      "[0 0 0 0 0 0 0 0 1 1 1 2 2 2 2 2 2 2 3 3 3 3 3 3]\n",
      "[0]\n",
      "[0]\n"
     ]
    },
    {
     "name": "stderr",
     "output_type": "stream",
     "text": [
      "c:\\users\\solinari\\appdata\\local\\programs\\python\\python36\\lib\\site-packages\\sklearn\\cluster\\affinity_propagation_.py:125: UserWarning: All samples have mutually equal similarities. Returning arbitrary cluster center(s).\n",
      "  warnings.warn(\"All samples have mutually equal similarities. \"\n"
     ]
    }
   ],
   "source": [
    "#!/usr/bin/env python\n",
    "# -*- coding: utf-8 -*-\n",
    "# @Time    : 2019/10/9 12:54\n",
    "# @Author  : Solinari\n",
    "# @Site    : \n",
    "# @File    : trigger.py\n",
    "# @Software: PyCharm\n",
    "\n",
    "from datamanager.collection import collection\n",
    "from datamanager.datasets.datasets import gen_datasets\n",
    "\n",
    "start_date = \"2010-01-01\"\n",
    "end_date = \"2019-12-31\"\n",
    "c = collection.Collection()\n",
    "code = \"600000\"\n",
    "\n",
    "for result in c.getData(code=code, start_date=start_date, end_date=end_date):\n",
    "#     print (result)\n",
    "    ret_cluster = gen_datasets(rawdata=result)"
   ]
  },
  {
   "cell_type": "code",
   "execution_count": null,
   "metadata": {},
   "outputs": [],
   "source": []
  }
 ],
 "metadata": {
  "kernelspec": {
   "display_name": "Python 3",
   "language": "python",
   "name": "python3"
  },
  "language_info": {
   "codemirror_mode": {
    "name": "ipython",
    "version": 3
   },
   "file_extension": ".py",
   "mimetype": "text/x-python",
   "name": "python",
   "nbconvert_exporter": "python",
   "pygments_lexer": "ipython3",
   "version": "3.6.8"
  },
  "toc": {
   "base_numbering": 1,
   "nav_menu": {},
   "number_sections": true,
   "sideBar": true,
   "skip_h1_title": false,
   "title_cell": "Table of Contents",
   "title_sidebar": "Contents",
   "toc_cell": false,
   "toc_position": {},
   "toc_section_display": true,
   "toc_window_display": false
  }
 },
 "nbformat": 4,
 "nbformat_minor": 4
}
