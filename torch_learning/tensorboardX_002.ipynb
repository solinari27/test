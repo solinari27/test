{
 "cells": [
  {
   "cell_type": "code",
   "execution_count": 11,
   "metadata": {},
   "outputs": [
    {
     "name": "stderr",
     "output_type": "stream",
     "text": [
      "[NbConvertApp] Converting notebook tensorboardX_002.ipynb to python\n",
      "[NbConvertApp] Writing 1317 bytes to tensorboardX_002.py\n"
     ]
    },
    {
     "data": {
      "image/png": "[encoded data removed]",
      "text/plain": [
       "<Figure size 432x288 with 1 Axes>"
      ]
     },
     "metadata": {
      "needs_background": "light"
     },
     "output_type": "display_data"
    }
   ],
   "source": [
    "#!/usr/bin/env python\n",
    "# -*- encoding: utf-8 -*-\n",
    "'''\n",
    "@File    :   tensorboardX_002.py\n",
    "@Time    :   2019/09/20 19:50:58\n",
    "@Author  :   Solinari \n",
    "@Contact :   deeper1@163.com\n",
    "@License :   (C)Copyright 2017-2018, GPLv3\n",
    "'''\n",
    "\n",
    "# here put the import lib\n",
    "# %matplotlib inline\n",
    "import numpy as np\n",
    "import torch\n",
    "import matplotlib.pyplot as plt\n",
    "from tensorboardX import SummaryWriter\n",
    "from torch.autograd import Variable\n",
    "from uuid import uuid4\n",
    "\n",
    "# switch matplotlib into non-interactive backennd\n",
    "# dont show img on screen\n",
    "plt.switch_backend('svg') # or 'svg' agg for png image svg for svg image\n",
    "\n",
    "# fake data\n",
    "x = torch.linspace(-5, 5, 200)\n",
    "x = Variable(x)\n",
    "x_np = x.data.numpy()\n",
    "\n",
    "# y_relu = F.relu(x).data.numpy()\n",
    "# y_sigmoid = F.sigmoid(x).data.numpy()\n",
    "y_tanh = torch.tanh(x).data.numpy()\n",
    "# y_softplus = F.softplus(x).data.numpy()\n",
    "# y_softmax = F.softmax(x)\n",
    "\n",
    "# fig = plt.figure(1, figsize=(8, 6))\n",
    "fig = plt.figure()\n",
    "plt.plot(x_np, y_tanh, c='red', label='relu')\n",
    "plt.ylim((-1, 5))\n",
    "plt.legend(loc='best')\n",
    "\n",
    "# writer = SummaryWriter('/mnt/c/Users/solinari/.tensorboard/img')\n",
    "# writer.add_figure(tag='activation_function_' + str(uuid4()), figure=fig)\n",
    "# writer.close()\n",
    "\n",
    "try:    \n",
    "    !jupyter nbconvert --to python tensorboardX_002.ipynb\n",
    "except:\n",
    "    pass"
   ]
  },
  {
   "cell_type": "code",
   "execution_count": null,
   "metadata": {},
   "outputs": [],
   "source": []
  }
 ],
 "metadata": {
  "kernelspec": {
   "display_name": "Python 3",
   "language": "python",
   "name": "python3"
  },
  "language_info": {
   "codemirror_mode": {
    "name": "ipython",
    "version": 3
   },
   "file_extension": ".py",
   "mimetype": "text/x-python",
   "name": "python",
   "nbconvert_exporter": "python",
   "pygments_lexer": "ipython3",
   "version": "3.6.8"
  }
 },
 "nbformat": 4,
 "nbformat_minor": 2
}
