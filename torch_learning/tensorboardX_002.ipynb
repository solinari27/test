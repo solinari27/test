{
 "cells": [
  {
   "cell_type": "code",
   "execution_count": 8,
   "metadata": {
    "scrolled": true
   },
   "outputs": [
    {
     "ename": "AttributeError",
     "evalue": "module 'os' has no attribute 'get_cwd'",
     "output_type": "error",
     "traceback": [
      "\u001b[1;31m---------------------------------------------------------------------------\u001b[0m",
      "\u001b[1;31mAttributeError\u001b[0m                            Traceback (most recent call last)",
      "\u001b[1;32m<ipython-input-8-e069a7e04d55>\u001b[0m in \u001b[0;36m<module>\u001b[1;34m\u001b[0m\n\u001b[0;32m     46\u001b[0m \u001b[1;33m\u001b[0m\u001b[0m\n\u001b[0;32m     47\u001b[0m \u001b[1;32mif\u001b[0m \u001b[0m__name__\u001b[0m \u001b[1;33m==\u001b[0m \u001b[1;34m'__main__'\u001b[0m\u001b[1;33m:\u001b[0m\u001b[1;33m\u001b[0m\u001b[1;33m\u001b[0m\u001b[0m\n\u001b[1;32m---> 48\u001b[1;33m     \u001b[0mprint\u001b[0m \u001b[1;33m(\u001b[0m\u001b[0mos\u001b[0m\u001b[1;33m.\u001b[0m\u001b[0mget_cwd\u001b[0m\u001b[1;33m(\u001b[0m\u001b[1;33m)\u001b[0m\u001b[1;33m)\u001b[0m\u001b[1;33m\u001b[0m\u001b[1;33m\u001b[0m\u001b[0m\n\u001b[0m\u001b[0;32m     49\u001b[0m     \u001b[0mc\u001b[0m \u001b[1;33m=\u001b[0m \u001b[0mTBwriter\u001b[0m\u001b[1;33m(\u001b[0m\u001b[1;34m'D:\\workspace\\test\\Conf\\tensorboard.yaml'\u001b[0m\u001b[1;33m)\u001b[0m\u001b[1;33m\u001b[0m\u001b[1;33m\u001b[0m\u001b[0m\n\u001b[0;32m     50\u001b[0m     \u001b[1;32mtry\u001b[0m\u001b[1;33m:\u001b[0m\u001b[1;33m\u001b[0m\u001b[1;33m\u001b[0m\u001b[0m\n",
      "\u001b[1;31mAttributeError\u001b[0m: module 'os' has no attribute 'get_cwd'"
     ]
    }
   ],
   "source": [
    "#!/usr/bin/env python\n",
    "# -*- encoding: utf-8 -*-\n",
    "'''\n",
    "@File    :   tensorboardX_002.py\n",
    "@Time    :   2019/09/20 19:50:58\n",
    "@Author  :   Solinari \n",
    "@Contact :   deeper1@163.com\n",
    "@License :   (C)Copyright 2017-2018, GPLv3\n",
    "'''\n",
    "\n",
    "# here put the import lib\n",
    "import os\n",
    "import torch\n",
    "import yaml\n",
    "import matplotlib.pyplot as plt\n",
    "from tensorboardX import SummaryWriter\n",
    "from torch.autograd import Variable\n",
    "\n",
    "# switch matplotlib into non-interactive backennd\n",
    "# dont show img on screen\n",
    "plt.switch_backend('svg') # or 'svg' agg for png image svg for svg image\n",
    "\n",
    "# input pytorch tensor\n",
    "x = torch.linspace(-5, 5, 200)\n",
    "x = Variable(x)\n",
    "x_np = x.data.numpy()\n",
    "y_tanh = torch.tanh(x).data.numpy()\n",
    "tag = 'my image'\n",
    "x_data = x_np\n",
    "y_data = y_tanh\n",
    "\n",
    "#use fig to plot\n",
    "fig = plt.figure()\n",
    "plt.plot(x_data, y_data, label=tag)\n",
    "\n",
    "class TBwriter():\n",
    "    \n",
    "    def __init__(self, confile):\n",
    "        with open(confile) as f:\n",
    "            print (yaml.load(f))\n",
    "\n",
    "    def writeResult():\n",
    "        writer = SummaryWriter('/mnt/c/Users/solinari/.tensorboard/img')\n",
    "        writer.add_figure(tag='activation_function_' + str(uuid4()), figure=fig)\n",
    "        writer.close()\n",
    "\n",
    "if __name__ == '__main__':\n",
    "    print (os.get_cwd())\n",
    "    c = TBwriter('D:\\workspace\\test\\Conf\\tensorboard.yaml')\n",
    "    try:\n",
    "        !jupyter nbconvert --to python tensorboardX_002.ipynb\n",
    "    except:\n",
    "        pass"
   ]
  },
  {
   "cell_type": "code",
   "execution_count": null,
   "metadata": {},
   "outputs": [],
   "source": []
  }
 ],
 "metadata": {
  "kernelspec": {
   "display_name": "Python 3",
   "language": "python",
   "name": "python3"
  },
  "language_info": {
   "codemirror_mode": {
    "name": "ipython",
    "version": 3
   },
   "file_extension": ".py",
   "mimetype": "text/x-python",
   "name": "python",
   "nbconvert_exporter": "python",
   "pygments_lexer": "ipython3",
   "version": "3.6.8"
  }
 },
 "nbformat": 4,
 "nbformat_minor": 2
}
