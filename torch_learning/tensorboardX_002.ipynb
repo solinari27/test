{
 "cells": [
  {
   "cell_type": "code",
   "execution_count": 16,
   "metadata": {},
   "outputs": [
    {
     "name": "stderr",
     "output_type": "stream",
     "text": [
      "[NbConvertApp] Converting notebook tensorboardX_002.ipynb to python\n",
      "[NbConvertApp] Writing 1240 bytes to tensorboardX_002.py\n"
     ]
    },
    {
     "data": {
      "image/png": "[encoded data removed]",
      "text/plain": [
       "<Figure size 432x288 with 1 Axes>"
      ]
     },
     "metadata": {
      "needs_background": "light"
     },
     "output_type": "display_data"
    }
   ],
   "source": [
    "#!/usr/bin/env python\n",
    "# -*- encoding: utf-8 -*-\n",
    "'''\n",
    "@File    :   tensorboardX_002.py\n",
    "@Time    :   2019/09/20 19:50:58\n",
    "@Author  :   Solinari \n",
    "@Contact :   deeper1@163.com\n",
    "@License :   (C)Copyright 2017-2018, GPLv3\n",
    "'''\n",
    "\n",
    "# here put the import lib\n",
    "# %matplotlib inline\n",
    "import torch\n",
    "import numpy as np\n",
    "import matplotlib.pyplot as plt\n",
    "from tensorboardX import SummaryWriter\n",
    "from torch.autograd import Variable\n",
    "\n",
    "# switch matplotlib into non-interactive backennd\n",
    "# dont show img on screen\n",
    "plt.switch_backend('svg') # or 'svg' agg for png image svg for svg image\n",
    "\n",
    "# input pytorch tensor\n",
    "x = torch.linspace(-5, 5, 200)\n",
    "x = Variable(x)\n",
    "x_np = x.data.numpy()\n",
    "y_tanh = torch.tanh(x).data.numpy()\n",
    "tag = 'my image'\n",
    "\n",
    "#use fig to plot\n",
    "fig = plt.figure()\n",
    "# plt.plot(x_np, y_tanh, c='red', label='relu')\n",
    "plt.plot(x_np, y_tanh, label=tag)\n",
    "# plt.legend(loc='best')\n",
    "\n",
    "# writer = SummaryWriter('/mnt/c/Users/solinari/.tensorboard/img')\n",
    "# writer.add_figure(tag='activation_function_' + str(uuid4()), figure=fig)\n",
    "# writer.close()\n",
    "\n",
    "if __name__ == '__main__':\n",
    "    try:\n",
    "        !jupyter nbconvert --to python tensorboardX_002.ipynb\n",
    "    except:\n",
    "        pass"
   ]
  },
  {
   "cell_type": "code",
   "execution_count": null,
   "metadata": {},
   "outputs": [],
   "source": []
  }
 ],
 "metadata": {
  "kernelspec": {
   "display_name": "Python 3",
   "language": "python",
   "name": "python3"
  },
  "language_info": {
   "codemirror_mode": {
    "name": "ipython",
    "version": 3
   },
   "file_extension": ".py",
   "mimetype": "text/x-python",
   "name": "python",
   "nbconvert_exporter": "python",
   "pygments_lexer": "ipython3",
   "version": "3.6.8"
  }
 },
 "nbformat": 4,
 "nbformat_minor": 2
}
